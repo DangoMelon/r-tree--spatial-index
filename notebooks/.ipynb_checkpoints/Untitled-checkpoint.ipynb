{
 "cells": [
  {
   "cell_type": "markdown",
   "metadata": {},
   "source": [
    "<h1>Indexación Espacial con R-tree<br><small>Caso de estudio: OSMnx y Geopandas</small><br></h1>"
   ]
  },
  {
   "cell_type": "code",
   "execution_count": 9,
   "metadata": {},
   "outputs": [
    {
     "data": {
      "text/html": [
       "<div>\n",
       "<style scoped>\n",
       "    .dataframe tbody tr th:only-of-type {\n",
       "        vertical-align: middle;\n",
       "    }\n",
       "\n",
       "    .dataframe tbody tr th {\n",
       "        vertical-align: top;\n",
       "    }\n",
       "\n",
       "    .dataframe thead th {\n",
       "        text-align: right;\n",
       "    }\n",
       "</style>\n",
       "<table border=\"1\" class=\"dataframe\">\n",
       "  <thead>\n",
       "    <tr style=\"text-align: right;\">\n",
       "      <th></th>\n",
       "      <th>bbox_east</th>\n",
       "      <th>bbox_north</th>\n",
       "      <th>bbox_south</th>\n",
       "      <th>bbox_west</th>\n",
       "      <th>geometry</th>\n",
       "      <th>place_name</th>\n",
       "    </tr>\n",
       "  </thead>\n",
       "  <tbody>\n",
       "    <tr>\n",
       "      <th>0</th>\n",
       "      <td>-76.987955</td>\n",
       "      <td>-11.887610</td>\n",
       "      <td>-11.977123</td>\n",
       "      <td>-77.073483</td>\n",
       "      <td>POLYGON ((-77.0734832 -11.9183677, -77.0733675...</td>\n",
       "      <td>Comas, Lima, Perú</td>\n",
       "    </tr>\n",
       "    <tr>\n",
       "      <th>1</th>\n",
       "      <td>-77.004891</td>\n",
       "      <td>-11.572436</td>\n",
       "      <td>-11.820664</td>\n",
       "      <td>-77.199213</td>\n",
       "      <td>POLYGON ((-77.19921290000001 -11.6937187, -77....</td>\n",
       "      <td>Ancón, Lima, Perú</td>\n",
       "    </tr>\n",
       "    <tr>\n",
       "      <th>2</th>\n",
       "      <td>-76.804868</td>\n",
       "      <td>-11.680009</td>\n",
       "      <td>-11.910078</td>\n",
       "      <td>-77.093084</td>\n",
       "      <td>POLYGON ((-77.09308369999999 -11.8087135, -77....</td>\n",
       "      <td>Carabayllo, Lima, LIMA 06, Perú</td>\n",
       "    </tr>\n",
       "    <tr>\n",
       "      <th>3</th>\n",
       "      <td>-77.043470</td>\n",
       "      <td>-11.934311</td>\n",
       "      <td>-12.038937</td>\n",
       "      <td>-77.128429</td>\n",
       "      <td>POLYGON ((-77.1284289 -11.9383955, -77.1275384...</td>\n",
       "      <td>San Martín de Porres, Lima, Perú</td>\n",
       "    </tr>\n",
       "  </tbody>\n",
       "</table>\n",
       "</div>"
      ],
      "text/plain": [
       "   bbox_east  bbox_north  bbox_south  bbox_west  \\\n",
       "0 -76.987955  -11.887610  -11.977123 -77.073483   \n",
       "1 -77.004891  -11.572436  -11.820664 -77.199213   \n",
       "2 -76.804868  -11.680009  -11.910078 -77.093084   \n",
       "3 -77.043470  -11.934311  -12.038937 -77.128429   \n",
       "\n",
       "                                            geometry  \\\n",
       "0  POLYGON ((-77.0734832 -11.9183677, -77.0733675...   \n",
       "1  POLYGON ((-77.19921290000001 -11.6937187, -77....   \n",
       "2  POLYGON ((-77.09308369999999 -11.8087135, -77....   \n",
       "3  POLYGON ((-77.1284289 -11.9383955, -77.1275384...   \n",
       "\n",
       "                         place_name  \n",
       "0                 Comas, Lima, Perú  \n",
       "1                 Ancón, Lima, Perú  \n",
       "2   Carabayllo, Lima, LIMA 06, Perú  \n",
       "3  San Martín de Porres, Lima, Perú  "
      ]
     },
     "execution_count": 9,
     "metadata": {},
     "output_type": "execute_result"
    }
   ],
   "source": [
    "import osmnx as ox\n",
    "\n",
    "norte = ox.gdf_from_places([\n",
    "    'Comas, Lima, Perú',\n",
    "    'Ancón, Lima, Perú',\n",
    "    'Carabayllo, Lima, Perú',\n",
    "    'San Martín de Porres, Lima, Perú'\n",
    "])"
   ]
  },
  {
   "cell_type": "code",
   "execution_count": 2,
   "metadata": {},
   "outputs": [
    {
     "data": {
      "text/html": [
       "<div>\n",
       "<style scoped>\n",
       "    .dataframe tbody tr th:only-of-type {\n",
       "        vertical-align: middle;\n",
       "    }\n",
       "\n",
       "    .dataframe tbody tr th {\n",
       "        vertical-align: top;\n",
       "    }\n",
       "\n",
       "    .dataframe thead th {\n",
       "        text-align: right;\n",
       "    }\n",
       "</style>\n",
       "<table border=\"1\" class=\"dataframe\">\n",
       "  <thead>\n",
       "    <tr style=\"text-align: right;\">\n",
       "      <th></th>\n",
       "      <th>bbox_east</th>\n",
       "      <th>bbox_north</th>\n",
       "      <th>bbox_south</th>\n",
       "      <th>bbox_west</th>\n",
       "      <th>geometry</th>\n",
       "      <th>place_name</th>\n",
       "    </tr>\n",
       "  </thead>\n",
       "  <tbody>\n",
       "    <tr>\n",
       "      <th>0</th>\n",
       "      <td>-77.027642</td>\n",
       "      <td>-11.960678</td>\n",
       "      <td>-12.017312</td>\n",
       "      <td>-77.066168</td>\n",
       "      <td>POLYGON ((-77.066168 -11.977918, -77.0656309 -...</td>\n",
       "      <td>Independencia, Lima, Perú</td>\n",
       "    </tr>\n",
       "  </tbody>\n",
       "</table>\n",
       "</div>"
      ],
      "text/plain": [
       "   bbox_east  bbox_north  bbox_south  bbox_west  \\\n",
       "0 -77.027642  -11.960678  -12.017312 -77.066168   \n",
       "\n",
       "                                            geometry  \\\n",
       "0  POLYGON ((-77.066168 -11.977918, -77.0656309 -...   \n",
       "\n",
       "                  place_name  \n",
       "0  Independencia, Lima, Perú  "
      ]
     },
     "execution_count": 2,
     "metadata": {},
     "output_type": "execute_result"
    }
   ],
   "source": [
    "# Este es un caso especial debido a:\n",
    "# https://github.com/gboeing/osmnx/issues/16\n",
    "\n",
    "independencia = ox.gdf_from_place('Independencia, Lima, Perú', which_result=2)\n",
    "independencia"
   ]
  },
  {
   "cell_type": "code",
   "execution_count": 3,
   "metadata": {},
   "outputs": [],
   "source": [
    "norte = norte.append(independencia, ignore_index=True, verify_integrity=True)"
   ]
  },
  {
   "cell_type": "code",
   "execution_count": 4,
   "metadata": {},
   "outputs": [
    {
     "data": {
      "text/html": [
       "<div>\n",
       "<style scoped>\n",
       "    .dataframe tbody tr th:only-of-type {\n",
       "        vertical-align: middle;\n",
       "    }\n",
       "\n",
       "    .dataframe tbody tr th {\n",
       "        vertical-align: top;\n",
       "    }\n",
       "\n",
       "    .dataframe thead th {\n",
       "        text-align: right;\n",
       "    }\n",
       "</style>\n",
       "<table border=\"1\" class=\"dataframe\">\n",
       "  <thead>\n",
       "    <tr style=\"text-align: right;\">\n",
       "      <th></th>\n",
       "      <th>bbox_east</th>\n",
       "      <th>bbox_north</th>\n",
       "      <th>bbox_south</th>\n",
       "      <th>bbox_west</th>\n",
       "      <th>geometry</th>\n",
       "      <th>place_name</th>\n",
       "    </tr>\n",
       "  </thead>\n",
       "  <tbody>\n",
       "    <tr>\n",
       "      <th>0</th>\n",
       "      <td>-76.987955</td>\n",
       "      <td>-11.887610</td>\n",
       "      <td>-11.977123</td>\n",
       "      <td>-77.073483</td>\n",
       "      <td>POLYGON ((-77.0734832 -11.9183677, -77.0733675...</td>\n",
       "      <td>Comas, Lima, Perú</td>\n",
       "    </tr>\n",
       "    <tr>\n",
       "      <th>1</th>\n",
       "      <td>-77.004891</td>\n",
       "      <td>-11.572436</td>\n",
       "      <td>-11.820664</td>\n",
       "      <td>-77.199213</td>\n",
       "      <td>POLYGON ((-77.19921290000001 -11.6937187, -77....</td>\n",
       "      <td>Ancón, Lima, Perú</td>\n",
       "    </tr>\n",
       "    <tr>\n",
       "      <th>2</th>\n",
       "      <td>-76.804868</td>\n",
       "      <td>-11.680009</td>\n",
       "      <td>-11.910078</td>\n",
       "      <td>-77.093084</td>\n",
       "      <td>POLYGON ((-77.09308369999999 -11.8087135, -77....</td>\n",
       "      <td>Carabayllo, Lima, LIMA 06, Perú</td>\n",
       "    </tr>\n",
       "    <tr>\n",
       "      <th>3</th>\n",
       "      <td>-77.043470</td>\n",
       "      <td>-11.934311</td>\n",
       "      <td>-12.038937</td>\n",
       "      <td>-77.128429</td>\n",
       "      <td>POLYGON ((-77.1284289 -11.9383955, -77.1275384...</td>\n",
       "      <td>San Martín de Porres, Lima, Perú</td>\n",
       "    </tr>\n",
       "    <tr>\n",
       "      <th>4</th>\n",
       "      <td>-77.027642</td>\n",
       "      <td>-11.960678</td>\n",
       "      <td>-12.017312</td>\n",
       "      <td>-77.066168</td>\n",
       "      <td>POLYGON ((-77.066168 -11.977918, -77.0656309 -...</td>\n",
       "      <td>Independencia, Lima, Perú</td>\n",
       "    </tr>\n",
       "  </tbody>\n",
       "</table>\n",
       "</div>"
      ],
      "text/plain": [
       "   bbox_east  bbox_north  bbox_south  bbox_west  \\\n",
       "0 -76.987955  -11.887610  -11.977123 -77.073483   \n",
       "1 -77.004891  -11.572436  -11.820664 -77.199213   \n",
       "2 -76.804868  -11.680009  -11.910078 -77.093084   \n",
       "3 -77.043470  -11.934311  -12.038937 -77.128429   \n",
       "4 -77.027642  -11.960678  -12.017312 -77.066168   \n",
       "\n",
       "                                            geometry  \\\n",
       "0  POLYGON ((-77.0734832 -11.9183677, -77.0733675...   \n",
       "1  POLYGON ((-77.19921290000001 -11.6937187, -77....   \n",
       "2  POLYGON ((-77.09308369999999 -11.8087135, -77....   \n",
       "3  POLYGON ((-77.1284289 -11.9383955, -77.1275384...   \n",
       "4  POLYGON ((-77.066168 -11.977918, -77.0656309 -...   \n",
       "\n",
       "                         place_name  \n",
       "0                 Comas, Lima, Perú  \n",
       "1                 Ancón, Lima, Perú  \n",
       "2   Carabayllo, Lima, LIMA 06, Perú  \n",
       "3  San Martín de Porres, Lima, Perú  \n",
       "4         Independencia, Lima, Perú  "
      ]
     },
     "execution_count": 4,
     "metadata": {},
     "output_type": "execute_result"
    }
   ],
   "source": [
    "norte"
   ]
  },
  {
   "cell_type": "code",
   "execution_count": 5,
   "metadata": {},
   "outputs": [],
   "source": [
    "nortep = ox.project_gdf(norte)"
   ]
  },
  {
   "cell_type": "code",
   "execution_count": 6,
   "metadata": {},
   "outputs": [
    {
     "data": {
      "text/html": [
       "<div>\n",
       "<style scoped>\n",
       "    .dataframe tbody tr th:only-of-type {\n",
       "        vertical-align: middle;\n",
       "    }\n",
       "\n",
       "    .dataframe tbody tr th {\n",
       "        vertical-align: top;\n",
       "    }\n",
       "\n",
       "    .dataframe thead th {\n",
       "        text-align: right;\n",
       "    }\n",
       "</style>\n",
       "<table border=\"1\" class=\"dataframe\">\n",
       "  <thead>\n",
       "    <tr style=\"text-align: right;\">\n",
       "      <th></th>\n",
       "      <th>bbox_east</th>\n",
       "      <th>bbox_north</th>\n",
       "      <th>bbox_south</th>\n",
       "      <th>bbox_west</th>\n",
       "      <th>geometry</th>\n",
       "      <th>place_name</th>\n",
       "    </tr>\n",
       "  </thead>\n",
       "  <tbody>\n",
       "    <tr>\n",
       "      <th>0</th>\n",
       "      <td>-76.987955</td>\n",
       "      <td>-11.887610</td>\n",
       "      <td>-11.977123</td>\n",
       "      <td>-77.073483</td>\n",
       "      <td>POLYGON ((274169.4185108729 -1318371.089420177...</td>\n",
       "      <td>Comas, Lima, Perú</td>\n",
       "    </tr>\n",
       "    <tr>\n",
       "      <th>1</th>\n",
       "      <td>-77.004891</td>\n",
       "      <td>-11.572436</td>\n",
       "      <td>-11.820664</td>\n",
       "      <td>-77.199213</td>\n",
       "      <td>POLYGON ((260274.4105675218 -1293618.836227624...</td>\n",
       "      <td>Ancón, Lima, Perú</td>\n",
       "    </tr>\n",
       "    <tr>\n",
       "      <th>2</th>\n",
       "      <td>-76.804868</td>\n",
       "      <td>-11.680009</td>\n",
       "      <td>-11.910078</td>\n",
       "      <td>-77.093084</td>\n",
       "      <td>POLYGON ((271942.6267151651 -1306254.44341046,...</td>\n",
       "      <td>Carabayllo, Lima, LIMA 06, Perú</td>\n",
       "    </tr>\n",
       "    <tr>\n",
       "      <th>3</th>\n",
       "      <td>-77.043470</td>\n",
       "      <td>-11.934311</td>\n",
       "      <td>-12.038937</td>\n",
       "      <td>-77.128429</td>\n",
       "      <td>POLYGON ((268199.6026057471 -1320632.478047614...</td>\n",
       "      <td>San Martín de Porres, Lima, Perú</td>\n",
       "    </tr>\n",
       "    <tr>\n",
       "      <th>4</th>\n",
       "      <td>-77.027642</td>\n",
       "      <td>-11.960678</td>\n",
       "      <td>-12.017312</td>\n",
       "      <td>-77.066168</td>\n",
       "      <td>POLYGON ((275015.674265303 -1324954.014504894,...</td>\n",
       "      <td>Independencia, Lima, Perú</td>\n",
       "    </tr>\n",
       "  </tbody>\n",
       "</table>\n",
       "</div>"
      ],
      "text/plain": [
       "   bbox_east  bbox_north  bbox_south  bbox_west  \\\n",
       "0 -76.987955  -11.887610  -11.977123 -77.073483   \n",
       "1 -77.004891  -11.572436  -11.820664 -77.199213   \n",
       "2 -76.804868  -11.680009  -11.910078 -77.093084   \n",
       "3 -77.043470  -11.934311  -12.038937 -77.128429   \n",
       "4 -77.027642  -11.960678  -12.017312 -77.066168   \n",
       "\n",
       "                                            geometry  \\\n",
       "0  POLYGON ((274169.4185108729 -1318371.089420177...   \n",
       "1  POLYGON ((260274.4105675218 -1293618.836227624...   \n",
       "2  POLYGON ((271942.6267151651 -1306254.44341046,...   \n",
       "3  POLYGON ((268199.6026057471 -1320632.478047614...   \n",
       "4  POLYGON ((275015.674265303 -1324954.014504894,...   \n",
       "\n",
       "                         place_name  \n",
       "0                 Comas, Lima, Perú  \n",
       "1                 Ancón, Lima, Perú  \n",
       "2   Carabayllo, Lima, LIMA 06, Perú  \n",
       "3  San Martín de Porres, Lima, Perú  \n",
       "4         Independencia, Lima, Perú  "
      ]
     },
     "execution_count": 6,
     "metadata": {},
     "output_type": "execute_result"
    }
   ],
   "source": [
    "nortep"
   ]
  },
  {
   "cell_type": "code",
   "execution_count": 7,
   "metadata": {},
   "outputs": [
    {
     "data": {
      "image/png": "[encoded data removed]",
      "text/plain": [
       "<matplotlib.figure.Figure at 0x7f1046670dd8>"
      ]
     },
     "metadata": {},
     "output_type": "display_data"
    },
    {
     "data": {
      "text/plain": [
       "(<matplotlib.figure.Figure at 0x7f1046670dd8>,\n",
       " <matplotlib.axes._subplots.AxesSubplot at 0x7f1046670f60>)"
      ]
     },
     "execution_count": 7,
     "metadata": {},
     "output_type": "execute_result"
    }
   ],
   "source": [
    "ox.plot_shape(norte)"
   ]
  },
  {
   "cell_type": "code",
   "execution_count": 8,
   "metadata": {},
   "outputs": [
    {
     "ename": "ValueError",
     "evalue": "unknown network_type \"street\"",
     "output_type": "error",
     "traceback": [
      "\u001b[0;31m---------------------------------------------------------------------------\u001b[0m",
      "\u001b[0;31mValueError\u001b[0m                                Traceback (most recent call last)",
      "\u001b[0;32m<ipython-input-8-cedef5a48a99>\u001b[0m in \u001b[0;36m<module>\u001b[0;34m()\u001b[0m\n\u001b[1;32m      2\u001b[0m \u001b[0;31m# https://github.com/gboeing/osmnx/issues/16\u001b[0m\u001b[0;34m\u001b[0m\u001b[0;34m\u001b[0m\u001b[0m\n\u001b[1;32m      3\u001b[0m \u001b[0;34m\u001b[0m\u001b[0m\n\u001b[0;32m----> 4\u001b[0;31m \u001b[0mindependencia_streets\u001b[0m \u001b[0;34m=\u001b[0m \u001b[0mox\u001b[0m\u001b[0;34m.\u001b[0m\u001b[0mgraph_from_place\u001b[0m\u001b[0;34m(\u001b[0m\u001b[0;34m'Independencia, Lima, Perú'\u001b[0m\u001b[0;34m,\u001b[0m \u001b[0mwhich_result\u001b[0m\u001b[0;34m=\u001b[0m\u001b[0;36m2\u001b[0m\u001b[0;34m,\u001b[0m \u001b[0mnetwork_type\u001b[0m\u001b[0;34m=\u001b[0m\u001b[0;34m'street'\u001b[0m\u001b[0;34m)\u001b[0m\u001b[0;34m\u001b[0m\u001b[0m\n\u001b[0m\u001b[1;32m      5\u001b[0m \u001b[0mindependencia_streets\u001b[0m\u001b[0;34m\u001b[0m\u001b[0m\n",
      "\u001b[0;32m/opt/conda/envs/r-tree/lib/python3.6/site-packages/osmnx/core.py\u001b[0m in \u001b[0;36mgraph_from_place\u001b[0;34m(query, network_type, simplify, retain_all, truncate_by_edge, name, which_result, buffer_dist, timeout, memory, max_query_area_size, clean_periphery, infrastructure)\u001b[0m\n\u001b[1;32m   1798\u001b[0m                            \u001b[0mname\u001b[0m\u001b[0;34m=\u001b[0m\u001b[0mname\u001b[0m\u001b[0;34m,\u001b[0m \u001b[0mtimeout\u001b[0m\u001b[0;34m=\u001b[0m\u001b[0mtimeout\u001b[0m\u001b[0;34m,\u001b[0m \u001b[0mmemory\u001b[0m\u001b[0;34m=\u001b[0m\u001b[0mmemory\u001b[0m\u001b[0;34m,\u001b[0m\u001b[0;34m\u001b[0m\u001b[0m\n\u001b[1;32m   1799\u001b[0m                            \u001b[0mmax_query_area_size\u001b[0m\u001b[0;34m=\u001b[0m\u001b[0mmax_query_area_size\u001b[0m\u001b[0;34m,\u001b[0m\u001b[0;34m\u001b[0m\u001b[0m\n\u001b[0;32m-> 1800\u001b[0;31m                            clean_periphery=clean_periphery, infrastructure=infrastructure)\n\u001b[0m\u001b[1;32m   1801\u001b[0m \u001b[0;34m\u001b[0m\u001b[0m\n\u001b[1;32m   1802\u001b[0m     \u001b[0mlog\u001b[0m\u001b[0;34m(\u001b[0m\u001b[0;34m'graph_from_place() returning graph with {:,} nodes and {:,} edges'\u001b[0m\u001b[0;34m.\u001b[0m\u001b[0mformat\u001b[0m\u001b[0;34m(\u001b[0m\u001b[0mlen\u001b[0m\u001b[0;34m(\u001b[0m\u001b[0mlist\u001b[0m\u001b[0;34m(\u001b[0m\u001b[0mG\u001b[0m\u001b[0;34m.\u001b[0m\u001b[0mnodes\u001b[0m\u001b[0;34m(\u001b[0m\u001b[0;34m)\u001b[0m\u001b[0;34m)\u001b[0m\u001b[0;34m)\u001b[0m\u001b[0;34m,\u001b[0m \u001b[0mlen\u001b[0m\u001b[0;34m(\u001b[0m\u001b[0mlist\u001b[0m\u001b[0;34m(\u001b[0m\u001b[0mG\u001b[0m\u001b[0;34m.\u001b[0m\u001b[0medges\u001b[0m\u001b[0;34m(\u001b[0m\u001b[0;34m)\u001b[0m\u001b[0;34m)\u001b[0m\u001b[0;34m)\u001b[0m\u001b[0;34m)\u001b[0m\u001b[0;34m)\u001b[0m\u001b[0;34m\u001b[0m\u001b[0m\n",
      "\u001b[0;32m/opt/conda/envs/r-tree/lib/python3.6/site-packages/osmnx/core.py\u001b[0m in \u001b[0;36mgraph_from_polygon\u001b[0;34m(polygon, network_type, simplify, retain_all, truncate_by_edge, name, timeout, memory, max_query_area_size, clean_periphery, infrastructure)\u001b[0m\n\u001b[1;32m   1676\u001b[0m                                           \u001b[0mtimeout\u001b[0m\u001b[0;34m=\u001b[0m\u001b[0mtimeout\u001b[0m\u001b[0;34m,\u001b[0m \u001b[0mmemory\u001b[0m\u001b[0;34m=\u001b[0m\u001b[0mmemory\u001b[0m\u001b[0;34m,\u001b[0m\u001b[0;34m\u001b[0m\u001b[0m\n\u001b[1;32m   1677\u001b[0m                                           \u001b[0mmax_query_area_size\u001b[0m\u001b[0;34m=\u001b[0m\u001b[0mmax_query_area_size\u001b[0m\u001b[0;34m,\u001b[0m\u001b[0;34m\u001b[0m\u001b[0m\n\u001b[0;32m-> 1678\u001b[0;31m                                           infrastructure=infrastructure)\n\u001b[0m\u001b[1;32m   1679\u001b[0m         \u001b[0mG_buffered\u001b[0m \u001b[0;34m=\u001b[0m \u001b[0mcreate_graph\u001b[0m\u001b[0;34m(\u001b[0m\u001b[0mresponse_jsons\u001b[0m\u001b[0;34m,\u001b[0m \u001b[0mname\u001b[0m\u001b[0;34m=\u001b[0m\u001b[0mname\u001b[0m\u001b[0;34m,\u001b[0m \u001b[0mretain_all\u001b[0m\u001b[0;34m=\u001b[0m\u001b[0;32mTrue\u001b[0m\u001b[0;34m,\u001b[0m \u001b[0mnetwork_type\u001b[0m\u001b[0;34m=\u001b[0m\u001b[0mnetwork_type\u001b[0m\u001b[0;34m)\u001b[0m\u001b[0;34m\u001b[0m\u001b[0m\n\u001b[1;32m   1680\u001b[0m         \u001b[0mG_buffered\u001b[0m \u001b[0;34m=\u001b[0m \u001b[0mtruncate_graph_polygon\u001b[0m\u001b[0;34m(\u001b[0m\u001b[0mG_buffered\u001b[0m\u001b[0;34m,\u001b[0m \u001b[0mpolygon_buffered\u001b[0m\u001b[0;34m,\u001b[0m \u001b[0mretain_all\u001b[0m\u001b[0;34m=\u001b[0m\u001b[0;32mTrue\u001b[0m\u001b[0;34m,\u001b[0m \u001b[0mtruncate_by_edge\u001b[0m\u001b[0;34m=\u001b[0m\u001b[0mtruncate_by_edge\u001b[0m\u001b[0;34m)\u001b[0m\u001b[0;34m\u001b[0m\u001b[0m\n",
      "\u001b[0;32m/opt/conda/envs/r-tree/lib/python3.6/site-packages/osmnx/core.py\u001b[0m in \u001b[0;36mosm_net_download\u001b[0;34m(polygon, north, south, east, west, network_type, timeout, memory, max_query_area_size, infrastructure)\u001b[0m\n\u001b[1;32m    603\u001b[0m     \u001b[0;31m# create a filter to exclude certain kinds of ways based on the requested\u001b[0m\u001b[0;34m\u001b[0m\u001b[0;34m\u001b[0m\u001b[0m\n\u001b[1;32m    604\u001b[0m     \u001b[0;31m# network_type\u001b[0m\u001b[0;34m\u001b[0m\u001b[0;34m\u001b[0m\u001b[0m\n\u001b[0;32m--> 605\u001b[0;31m     \u001b[0mosm_filter\u001b[0m \u001b[0;34m=\u001b[0m \u001b[0mget_osm_filter\u001b[0m\u001b[0;34m(\u001b[0m\u001b[0mnetwork_type\u001b[0m\u001b[0;34m)\u001b[0m\u001b[0;34m\u001b[0m\u001b[0m\n\u001b[0m\u001b[1;32m    606\u001b[0m     \u001b[0mresponse_jsons\u001b[0m \u001b[0;34m=\u001b[0m \u001b[0;34m[\u001b[0m\u001b[0;34m]\u001b[0m\u001b[0;34m\u001b[0m\u001b[0m\n\u001b[1;32m    607\u001b[0m \u001b[0;34m\u001b[0m\u001b[0m\n",
      "\u001b[0;32m/opt/conda/envs/r-tree/lib/python3.6/site-packages/osmnx/core.py\u001b[0m in \u001b[0;36mget_osm_filter\u001b[0;34m(network_type)\u001b[0m\n\u001b[1;32m    548\u001b[0m         \u001b[0mosm_filter\u001b[0m \u001b[0;34m=\u001b[0m \u001b[0mfilters\u001b[0m\u001b[0;34m[\u001b[0m\u001b[0mnetwork_type\u001b[0m\u001b[0;34m]\u001b[0m\u001b[0;34m\u001b[0m\u001b[0m\n\u001b[1;32m    549\u001b[0m     \u001b[0;32melse\u001b[0m\u001b[0;34m:\u001b[0m\u001b[0;34m\u001b[0m\u001b[0m\n\u001b[0;32m--> 550\u001b[0;31m         \u001b[0;32mraise\u001b[0m \u001b[0mValueError\u001b[0m\u001b[0;34m(\u001b[0m\u001b[0;34m'unknown network_type \"{}\"'\u001b[0m\u001b[0;34m.\u001b[0m\u001b[0mformat\u001b[0m\u001b[0;34m(\u001b[0m\u001b[0mnetwork_type\u001b[0m\u001b[0;34m)\u001b[0m\u001b[0;34m)\u001b[0m\u001b[0;34m\u001b[0m\u001b[0m\n\u001b[0m\u001b[1;32m    551\u001b[0m \u001b[0;34m\u001b[0m\u001b[0m\n\u001b[1;32m    552\u001b[0m     \u001b[0;32mreturn\u001b[0m \u001b[0mosm_filter\u001b[0m\u001b[0;34m\u001b[0m\u001b[0m\n",
      "\u001b[0;31mValueError\u001b[0m: unknown network_type \"street\""
     ]
    }
   ],
   "source": [
    "# Este es un caso especial debido a:\n",
    "# https://github.com/gboeing/osmnx/issues/16\n",
    "\n",
    "independencia_streets = ox.graph_from_place('Independencia, Lima, Perú', which_result=2, network_type='street')\n",
    "independencia_streets"
   ]
  },
  {
   "cell_type": "code",
   "execution_count": null,
   "metadata": {},
   "outputs": [],
   "source": [
    "independencia_streets_p = ox.project_graph(independencia_streets)\n",
    "ox.plot_graph(independencia_streets_p)"
   ]
  },
  {
   "cell_type": "code",
   "execution_count": null,
   "metadata": {},
   "outputs": [],
   "source": []
  }
 ],
 "metadata": {
  "kernelspec": {
   "display_name": "Python 3",
   "language": "python",
   "name": "python3"
  },
  "language_info": {
   "codemirror_mode": {
    "name": "ipython",
    "version": 3
   },
   "file_extension": ".py",
   "mimetype": "text/x-python",
   "name": "python",
   "nbconvert_exporter": "python",
   "pygments_lexer": "ipython3",
   "version": "3.6.3"
  }
 },
 "nbformat": 4,
 "nbformat_minor": 2
}
